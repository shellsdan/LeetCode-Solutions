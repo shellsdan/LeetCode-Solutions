{
 "cells": [
  {
   "cell_type": "code",
   "execution_count": 1,
   "metadata": {},
   "outputs": [],
   "source": [
    "class Solution:\n",
    "#     def shuffle(self, nums: List[int], n: int) -> List[int]:\n",
    "    def shuffle(self, nums, n):\n",
    "        res = [None]*len(nums)\n",
    "        j = n\n",
    "        k = 0\n",
    "        for i in range(len(nums)):\n",
    "            if (i+1)%2==0:\n",
    "                res[i] = nums[j]\n",
    "                j+=1\n",
    "            else:\n",
    "                res[i] = nums[k]\n",
    "                k+=1\n",
    "        return res "
   ]
  },
  {
   "cell_type": "code",
   "execution_count": 2,
   "metadata": {},
   "outputs": [
    {
     "data": {
      "text/plain": [
       "[2, 3, 5, 4, 1, 7]"
      ]
     },
     "execution_count": 2,
     "metadata": {},
     "output_type": "execute_result"
    }
   ],
   "source": [
    "s=Solution()\n",
    "s.shuffle([2,5,1,3,4,7],3)"
   ]
  },
  {
   "cell_type": "code",
   "execution_count": 3,
   "metadata": {},
   "outputs": [],
   "source": [
    "class Solution:\n",
    "#     def shuffle(self, nums: List[int], n: int) -> List[int]:\n",
    "    def shuffle(self, nums, n):\n",
    "        new_list = list()\n",
    "        for i in range(n):\n",
    "            new_list.append(nums[i])\n",
    "            new_list.append(nums[i+n])\n",
    "        return new_list"
   ]
  },
  {
   "cell_type": "code",
   "execution_count": 4,
   "metadata": {},
   "outputs": [
    {
     "data": {
      "text/plain": [
       "[2, 3, 5, 4, 1, 7]"
      ]
     },
     "execution_count": 4,
     "metadata": {},
     "output_type": "execute_result"
    }
   ],
   "source": [
    "s=Solution()\n",
    "s.shuffle([2,5,1,3,4,7],3)"
   ]
  },
  {
   "cell_type": "code",
   "execution_count": 5,
   "metadata": {},
   "outputs": [],
   "source": [
    "class Solution:\n",
    "#     def shuffle(self, nums: List[int], n: int) -> List[int]:\n",
    "    def shuffle(self, nums, n):\n",
    "        k = []\n",
    "        [k.extend([i, j]) for i, j in zip(nums[:n], nums[n:])]\n",
    "        return k"
   ]
  },
  {
   "cell_type": "code",
   "execution_count": 6,
   "metadata": {},
   "outputs": [
    {
     "data": {
      "text/plain": [
       "[2, 3, 5, 4, 1, 7]"
      ]
     },
     "execution_count": 6,
     "metadata": {},
     "output_type": "execute_result"
    }
   ],
   "source": [
    "s=Solution()\n",
    "s.shuffle([2,5,1,3,4,7],3)"
   ]
  }
 ],
 "metadata": {
  "kernelspec": {
   "display_name": "Python 3",
   "language": "python",
   "name": "python3"
  },
  "language_info": {
   "codemirror_mode": {
    "name": "ipython",
    "version": 3
   },
   "file_extension": ".py",
   "mimetype": "text/x-python",
   "name": "python",
   "nbconvert_exporter": "python",
   "pygments_lexer": "ipython3",
   "version": "3.6.7"
  }
 },
 "nbformat": 4,
 "nbformat_minor": 2
}
